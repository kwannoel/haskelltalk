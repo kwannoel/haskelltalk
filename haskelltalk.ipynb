{
 "cells": [
  {
   "cell_type": "markdown",
   "metadata": {},
   "source": [
    "# Interesting Features of Haskell\n",
    "- Types\n",
    "- non-strictness\n",
    "- recursion\n",
    "- pattern matching\n",
    "- Mini project!"
   ]
  },
  {
   "cell_type": "markdown",
   "metadata": {},
   "source": [
    "## Mandatory helloWorld:"
   ]
  },
  {
   "cell_type": "code",
   "execution_count": null,
   "metadata": {},
   "outputs": [],
   "source": [
    "main :: IO () -- [1] Type Sig\n",
    "main = do -- [2] Function expression\n",
    "  putStrLn \"Hello World\""
   ]
  },
  {
   "cell_type": "markdown",
   "metadata": {},
   "source": [
    "Executing:"
   ]
  },
  {
   "cell_type": "code",
   "execution_count": null,
   "metadata": {},
   "outputs": [],
   "source": [
    "main"
   ]
  },
  {
   "cell_type": "markdown",
   "metadata": {},
   "source": [
    "## Syntax:\n",
    "- Expressions\n",
    "- Type sigs"
   ]
  },
  {
   "cell_type": "markdown",
   "metadata": {},
   "source": [
    "_Expressions_"
   ]
  },
  {
   "cell_type": "code",
   "execution_count": null,
   "metadata": {},
   "outputs": [],
   "source": [
    "a = 1 + 2\n",
    "b = \"This is a String\""
   ]
  },
  {
   "cell_type": "markdown",
   "metadata": {},
   "source": [
    "_Type Signatures:_\n",
    "- _useful summaries of what functions can do_\n",
    "- _structure your code_"
   ]
  },
  {
   "cell_type": "code",
   "execution_count": null,
   "metadata": {},
   "outputs": [],
   "source": [
    "a :: Integer\n",
    "b :: String"
   ]
  },
  {
   "cell_type": "markdown",
   "metadata": {},
   "source": [
    "_Together_"
   ]
  },
  {
   "cell_type": "code",
   "execution_count": null,
   "metadata": {
    "scrolled": true
   },
   "outputs": [],
   "source": [
    "a :: Int\n",
    "a = 1 + 2\n",
    "\n",
    "b :: String\n",
    "b = \"This is a String\""
   ]
  },
  {
   "cell_type": "markdown",
   "metadata": {},
   "source": [
    "## Types:\n",
    "- String, Bool, Integer, Int\n",
    "- More interesting types: \n",
    "  - Sum\n",
    "  - Product\n",
    "  - Maybe (if we have time)\n",
    "  \n"
   ]
  },
  {
   "cell_type": "markdown",
   "metadata": {},
   "source": [
    "#### Define your own types in Haskell:\n",
    "- Create structure e.g. An object, a system etc..."
   ]
  },
  {
   "cell_type": "markdown",
   "metadata": {},
   "source": [
    "## Sum Types"
   ]
  },
  {
   "cell_type": "markdown",
   "metadata": {},
   "source": [
    "data Bool = True | False"
   ]
  },
  {
   "cell_type": "code",
   "execution_count": null,
   "metadata": {},
   "outputs": [],
   "source": [
    "data Noel = Happy | Sad deriving (Eq, Show)\n",
    "\n",
    "happy :: Noel\n",
    "happy = Happy\n",
    "\n",
    "sad :: Noel\n",
    "sad = Sad"
   ]
  },
  {
   "cell_type": "code",
   "execution_count": null,
   "metadata": {},
   "outputs": [],
   "source": [
    "main :: IO ()\n",
    "main = do\n",
    "  putStrLn $ show Happy\n",
    "  putStrLn $ show Sad\n",
    "  print $ Happy == Sad"
   ]
  },
  {
   "cell_type": "markdown",
   "metadata": {},
   "source": [
    "_Executing_"
   ]
  },
  {
   "cell_type": "code",
   "execution_count": null,
   "metadata": {
    "scrolled": true
   },
   "outputs": [],
   "source": [
    "main"
   ]
  },
  {
   "cell_type": "markdown",
   "metadata": {},
   "source": [
    "## Product Types"
   ]
  },
  {
   "cell_type": "markdown",
   "metadata": {},
   "source": [
    "#### _Example: Modelling an Animal_"
   ]
  },
  {
   "cell_type": "code",
   "execution_count": null,
   "metadata": {},
   "outputs": [],
   "source": [
    "data Animal = Animal Name Age Limbs Hair\n",
    "\n",
    "type Name = String\n",
    "type Age = Integer\n",
    "type Limbs = Integer\n",
    "data Hair = Hairy | Hairless deriving (Eq, Show)"
   ]
  },
  {
   "cell_type": "markdown",
   "metadata": {},
   "source": [
    "## Functions in haskell"
   ]
  },
  {
   "cell_type": "code",
   "execution_count": null,
   "metadata": {},
   "outputs": [],
   "source": [
    "add :: Int -> Int -> Int\n",
    "--      [1]    [2]    [3]\n",
    "add a b = a + b"
   ]
  },
  {
   "cell_type": "markdown",
   "metadata": {},
   "source": [
    "**add** is a function which takes 2 Int args [1], [2] , returns an Int [3]"
   ]
  },
  {
   "cell_type": "code",
   "execution_count": null,
   "metadata": {},
   "outputs": [],
   "source": [
    "addIO :: IO ()\n",
    "addIO = print $ add 1 2\n",
    "\n",
    "addIO"
   ]
  },
  {
   "cell_type": "markdown",
   "metadata": {},
   "source": [
    "# Currying\n",
    "To understand the way functions work lets talk about currying"
   ]
  },
  {
   "cell_type": "markdown",
   "metadata": {},
   "source": [
    "functions in Haskell take one argument and return a function / value"
   ]
  },
  {
   "cell_type": "code",
   "execution_count": null,
   "metadata": {},
   "outputs": [],
   "source": [
    "add :: Int -> (Int -> Int)\n",
    "add a = \\x -> a + x\n",
    "\n",
    "-- (\\x -> a + x) 5\n",
    "-- (\\x -> 6 + x) 5\n",
    "-- (6 + 5)\n",
    "-- 11"
   ]
  },
  {
   "cell_type": "markdown",
   "metadata": {},
   "source": [
    "Hence, you can partially apply functions!"
   ]
  },
  {
   "cell_type": "code",
   "execution_count": null,
   "metadata": {},
   "outputs": [],
   "source": [
    "partialAdd :: Int -> Int\n",
    "partialAdd = add 5\n",
    "\n",
    "partialAddIO :: IO ()\n",
    "partialAddIO = do\n",
    "  let result = partialAdd 6\n",
    "  print result"
   ]
  },
  {
   "cell_type": "markdown",
   "metadata": {},
   "source": [
    "_Execute:_"
   ]
  },
  {
   "cell_type": "code",
   "execution_count": null,
   "metadata": {},
   "outputs": [],
   "source": [
    "partialAddIO"
   ]
  },
  {
   "cell_type": "markdown",
   "metadata": {},
   "source": [
    "## Pattern matching"
   ]
  },
  {
   "cell_type": "code",
   "execution_count": null,
   "metadata": {},
   "outputs": [],
   "source": [
    "const :: a -> b -> a\n",
    "const a _ = a\n",
    "\n",
    "sayHi :: String -> String\n",
    "sayHi str =\n",
    "  case str of\n",
    "    \"Noel\" -> \"Hello \" ++ str\n",
    "    \"Harish\" -> \"Hello \" ++ str\n",
    "    _ -> \"Who are you\"\n",
    "    \n",
    "putStrLn $ sayHi \"Noel\""
   ]
  },
  {
   "cell_type": "markdown",
   "metadata": {},
   "source": [
    "## Recursion"
   ]
  },
  {
   "cell_type": "markdown",
   "metadata": {},
   "source": [
    "Many things can be defined in Haskell through recursion"
   ]
  },
  {
   "cell_type": "code",
   "execution_count": null,
   "metadata": {},
   "outputs": [],
   "source": [
    "length :: String -> Int\n",
    "length \"\" = 0\n",
    "length (x:xs) = 1 + length xs\n",
    "--            = 1 + (1 + length xss)\n",
    "--            = 1 + (1 + (1 + length xsss))"
   ]
  },
  {
   "cell_type": "code",
   "execution_count": null,
   "metadata": {},
   "outputs": [],
   "source": [
    "import Control.Concurrent\n",
    "\n",
    "main = do\n",
    "  threadDelay 1000000\n",
    "  putStrLn \"Hello after 1000\"\n",
    "  \n",
    "main"
   ]
  },
  {
   "cell_type": "code",
   "execution_count": null,
   "metadata": {},
   "outputs": [],
   "source": [
    "type Path = String\n",
    "\n",
    "path :: Path\n",
    "path = \"path\"\n",
    "\n",
    "view = \"1\" ++ path"
   ]
  },
  {
   "cell_type": "code",
   "execution_count": null,
   "metadata": {},
   "outputs": [],
   "source": [
    "funcCheck :: Int -> Int -> Int\n",
    "funcCheck start = \n",
    "  let middle = start + 5\n",
    "  in \\numbers -> middle + numbers"
   ]
  },
  {
   "cell_type": "markdown",
   "metadata": {},
   "source": [
    "newtype State s a = State { runstate :: s -> (a, s)}\n",
    "\n",
    "instance Functor (State s) where\n",
    "  fmap f stateGenerate = State $ \\state -> let (generated, _) = runstate stateGenerate $ state \n",
    "                                           in (f generated, state)\n",
    "                                           \n",
    "instance Applicative (State s) where\n",
    "  pure a = State $ \\state -> (a, state)\n",
    "--(<*>) :: State s (a -> b) -> State s a -> State s b\n",
    "  (<*>) stateF stateGenerate = State $ \\state -> let (generated, _) = runstate stateGenerate $ state\n",
    "                                                     (f, _) = runstate stateF $ generated\n",
    "                                                 in (f generated, state)\n",
    "\n",
    "instance Monad (State s) where\n",
    "  return = pure\n",
    "--(>>=) :: State s a -> (a -> State s b) -> State s b\n",
    "  (>>=) stateGenerate liftToState = State $ \\s0 -> let (generated, s2) = runstate stateGenerate $ s0\n",
    "                                                      in runstate (liftToState generated) s2\n",
    "-- (>>) :: m a -> m b -> m b  \n",
    "  (>>) state1 state2 = state1 >>= \\_ -> state2\n",
    "-- stateGenerate = \\state -> (a, state)\n",
    "\n",
    "put newState = State $ \\_ -> ((), newState) -- sets the state value\n",
    "get = State $ \\s -> (s, s) -- sets the state value to result value\n",
    "return a = State $ \\s -> (a, s) -- sets the result value\n",
    "\n",
    "evalState :: State s a -> s -> a\n",
    "evalState p s = fst $ runstate p s\n",
    "execState :: State s a -> s -> s\n",
    "execState p s = snd $ runstate p s"
   ]
  },
  {
   "cell_type": "markdown",
   "metadata": {},
   "source": [
    "Recursively downloading a google drive Folder"
   ]
  },
  {
   "cell_type": "code",
   "execution_count": null,
   "metadata": {},
   "outputs": [],
   "source": [
    "data Comb a b = Comb { runComb :: s -> (a, s) }\n",
    "print $ get (Comb \"me\" 5)\n",
    "type Comb' = Comb String String\n",
    "zex = Comb \"Asd\" \"asd\" :: Comb'\n",
    "print $ get zex\n",
    "\n",
    "-- line numbers offset by +7\n",
    "-- mocks\n",
    "-- Behaviour: When "
   ]
  },
  {
   "cell_type": "code",
   "execution_count": 1,
   "metadata": {},
   "outputs": [],
   "source": [
    "import Control.Concurrent\n",
    "-- threadDelay 1000000\n",
    "\n",
    "import System.Random\n",
    "import Control.Monad.State\n",
    "\n",
    "type Name = String\n",
    "type MimeType = String\n",
    "type Id = String\n",
    "-- data State s a = State { runState :: s -> (a, s)}\n",
    "newtype File = File Name deriving (Eq, Show)\n",
    "\n",
    "data Folder = Directory { getDirName :: Name\n",
    "                        , getDirFiles :: [File]\n",
    "                        , getDirFolders :: [Folder] } deriving Eq\n",
    " \n",
    "con :: Name -> Name -> Name\n",
    "con = (++)\n",
    "branch :: Name -> Name\n",
    "branch a = \"  |\" `con` \"\\n  --\" `con` a `con` \"\\n\"\n",
    "\n",
    "indentation :: Int -> String\n",
    "indentation 0 = \"\"\n",
    "indentation n = indentation (n - 1) ++ \"  \"\n",
    "\n",
    "indentBranch :: Int -> Name -> Name\n",
    "indentBranch indent a = concat [indentation indent, \"|\", \"\\n\", indentation indent, \"--\", a, \"\\n\"]\n",
    "\n",
    "{-\n",
    "instance Show Folder where\n",
    "  show dir = go dir 0 where\n",
    "    go dir indent = \n",
    "        case dir of\n",
    "          Directory name [] [] -> \"Directory\" `con` name\n",
    "          Directory name fLs dLs -> \"Directory \" `con` name `con` \"\\n\"\n",
    "                                    `con` concat (fmap (branch . show) fLs)\n",
    "                                    `con` concat (fmap (branch . show) dLs)\n",
    "-}\n",
    "\n",
    "instance Show Folder where\n",
    "  show dir = go dir 0 where\n",
    "    go dir indent = \n",
    "        case dir of\n",
    "          Directory name fLs dLs -> indentBranch indent (\"Directory \" `con` name `con` \"\\n\")\n",
    "                                    `con` concat (fmap ((indentBranch (indent + 1)) . show) fLs)\n",
    "                                    `con` concat (fmap (\\dir -> go dir (indent + 1)) dLs)\n",
    "            \n",
    "initialState :: Folder -- State Folder Folder\n",
    "initialState = Directory \"root\" [] [] -- State $ \\folder -> (Dire root, folder)\n",
    "\n",
    "biggerDir :: Folder\n",
    "biggerDir = Directory \n",
    "              \"root2\" \n",
    "              [File \"a\", File \"b\"] \n",
    "              [Directory \n",
    "                \"root3\" \n",
    "                [File \"a\", File \"b\"]\n",
    "                []]\n",
    "\n",
    "biggestDir :: Folder\n",
    "biggestDir = Directory \n",
    "              \"root2\" \n",
    "              [File \"a\", File \"b\"] \n",
    "              [Directory \n",
    "                \"root3\" \n",
    "                [File \"a\", File \"b\"]\n",
    "                [],\n",
    "               Directory\n",
    "                \"root4\"\n",
    "                [File \"a\", File \"c\"]\n",
    "                [Directory\n",
    "                  \"root5\"\n",
    "                  [File \"d\"]\n",
    "                  []]]\n",
    "\n",
    "\n",
    "type Path = [Name]\n",
    "-- define show\n",
    "addFileRoot :: File -> Folder -> Folder\n",
    "addFileRoot file dir = \n",
    "  Directory (getDirName dir) \n",
    "            (file : getDirFiles dir) \n",
    "            (getDirFolders dir)\n",
    "\n",
    "addFolderRoot :: Folder -> Folder -> Folder\n",
    "addFolderRoot folder dir = \n",
    "  Directory (getDirName dir) \n",
    "            (getDirFiles dir) \n",
    "            (folder : getDirFolders dir)\n",
    "\n",
    "modFolder :: (Folder -> Folder) -> Path -> Folder -> Folder\n",
    "modFolder f [] folder = folder\n",
    "modFolder f (x:xs) folder\n",
    "  | x == folderName = \n",
    "    case xs of\n",
    "      [] -> f folder\n",
    "      xss -> Directory folderName fileList (fmap (modFolder f xs) folderList)\n",
    "  | otherwise = folder\n",
    "  where (folderName, \n",
    "         fileList, \n",
    "         folderList) = (getDirName folder, \n",
    "                        getDirFiles folder,\n",
    "                        getDirFolders folder)\n",
    "                        \n",
    "newFolder = addFolderRoot biggerDir initialState\n",
    "\n",
    "--modFolder (addFileRoot (File \"B1\")) [\"root\", \"root2\"] newFolder\n",
    "--modFolder (addFileRoot (File \"B2\")) [\"\"] newFolder\n",
    "--modFolder (addFolderRoot newFolder) [\"root\", \"root2\", \"root3\"] newFolder"
   ]
  },
  {
   "cell_type": "code",
   "execution_count": 2,
   "metadata": {},
   "outputs": [],
   "source": [
    "type Local = State Folder Folder"
   ]
  },
  {
   "cell_type": "code",
   "execution_count": 3,
   "metadata": {},
   "outputs": [],
   "source": [
    "data Target = Target { getTargetName :: Name, \n",
    "                       getTargetMime :: MimeType,\n",
    "                       getTargetId :: Id,\n",
    "                       getParentId :: Id} deriving (Eq, Show)\n",
    "\n",
    "mockFilesDb :: [Target]\n",
    "mockFilesDb = [\n",
    "  Target { getTargetName = \"Root\", \n",
    "           getTargetMime = \"Folder\", \n",
    "           getTargetId = \"A1\",  \n",
    "           getParentId = \"NOOOO\" },\n",
    "  Target { getTargetName = \"UserFiles\",\n",
    "           getTargetMime = \"Folder\",\n",
    "           getTargetId = \"B1\",\n",
    "           getParentId = \"A1\" },\n",
    "  Target { getTargetName = \"hello.Docx\",\n",
    "           getTargetMime = \"Doc\",\n",
    "           getTargetId = \"A2\",\n",
    "           getParentId = \"A1\" },\n",
    "  Target { getTargetName = \"details.xlsx\",\n",
    "           getTargetMime = \"Spreadsheet\",\n",
    "           getTargetId = \"A3\",\n",
    "           getParentId = \"A1\" },\n",
    "  Target { getTargetName = \"DataFiles\",\n",
    "           getTargetMime = \"Folder\",\n",
    "           getTargetId = \"C1\",\n",
    "           getParentId = \"B1\" },\n",
    "  Target { getTargetName = \"log.xlsx\",\n",
    "           getTargetMime = \"Spreadsheet\",\n",
    "           getTargetId = \"C2\",\n",
    "           getParentId = \"C1\" }]\n",
    "           "
   ]
  },
  {
   "cell_type": "code",
   "execution_count": 4,
   "metadata": {},
   "outputs": [
    {
     "data": {
      "text/plain": [
       "(100,100)"
      ]
     },
     "metadata": {},
     "output_type": "display_data"
    }
   ],
   "source": [
    "main :: State Int Int\n",
    "main = do\n",
    "  og <- state $ \\x -> (5, 2 * x)\n",
    "  state $ \\y -> (og, 2 * y)\n",
    "  state $ \\z -> (5, z)\n",
    "  state $ \\d -> (10, 5 * d)\n",
    "  x <- get\n",
    "  return x\n",
    "  \n",
    "  \n",
    "runState main 5"
   ]
  },
  {
   "cell_type": "code",
   "execution_count": 5,
   "metadata": {},
   "outputs": [
    {
     "data": {
      "text/plain": [
       "|\n",
       "--Directory root\n",
       "\n",
       "  |\n",
       "  --Directory root2\n",
       "\n",
       "    |\n",
       "    --File \"hello.Docx\"\n",
       "    |\n",
       "    --File \"hello.Docx\"\n",
       "    |\n",
       "    --File \"a\"\n",
       "    |\n",
       "    --File \"b\"\n",
       "    |\n",
       "    --Directory root3\n",
       "\n",
       "      |\n",
       "      --File \"a\"\n",
       "      |\n",
       "      --File \"b\""
      ]
     },
     "metadata": {},
     "output_type": "display_data"
    },
    {
     "data": {
      "text/plain": [
       "|\n",
       "--Directory root\n",
       "\n",
       "  |\n",
       "  --Directory root2\n",
       "\n",
       "    |\n",
       "    --File \"a\"\n",
       "    |\n",
       "    --File \"b\"\n",
       "    |\n",
       "    --Directory root3\n",
       "\n",
       "      |\n",
       "      --File \"a\"\n",
       "      |\n",
       "      --File \"b\""
      ]
     },
     "metadata": {},
     "output_type": "display_data"
    }
   ],
   "source": [
    "fileDownload :: Id -> Path -> Local\n",
    "fileDownload ident path = do\n",
    "  originalDirectory <- get\n",
    "  let file :: [Target]\n",
    "      file = filter (\\target -> getTargetId target == ident) mockFilesDb\n",
    "  case file of\n",
    "    [] -> state $ \\_ -> (originalDirectory, originalDirectory) -- State { runState :: Localstate -> (LocalChangeable, Localstate)}\n",
    "    (x:xs) -> do\n",
    "      let fileLocal :: File\n",
    "          fileLocal = File $ getTargetName x\n",
    "          stateModFunc :: Folder -> Folder\n",
    "          stateModFunc = modFolder (\\rootFolder -> (addFileRoot fileLocal rootFolder))\n",
    "                                   path\n",
    "      state $ \\folder -> (folder, stateModFunc folder)\n",
    "\n",
    "flowState = fileDownload \"A2\" [\"root\",\"root2\"]\n",
    "\n",
    "twoSame = flowState >> flowState\n",
    "execState twoSame newFolder\n",
    "evalState flowState newFolder"
   ]
  },
  {
   "cell_type": "code",
   "execution_count": 6,
   "metadata": {},
   "outputs": [
    {
     "data": {
      "text/plain": [
       "|\n",
       "--Directory root\n",
       "\n",
       "  |\n",
       "  --Directory root2\n",
       "\n",
       "    |\n",
       "    --File \"a\"\n",
       "    |\n",
       "    --File \"b\"\n",
       "    |\n",
       "    --Directory root3\n",
       "\n",
       "      |\n",
       "      --File \"a\"\n",
       "      |\n",
       "      --File \"b\"\n",
       "      |\n",
       "      --Directory Noel"
      ]
     },
     "metadata": {},
     "output_type": "display_data"
    }
   ],
   "source": [
    "folderFrom :: Name -> Path -> Local\n",
    "folderFrom name path = do\n",
    "  originalDirectory <- get\n",
    "  let emptyDir :: Folder\n",
    "      emptyDir = Directory name [] []\n",
    "      stateModFunc :: Folder -> Folder\n",
    "      stateModFunc = modFolder (\\rootFolder -> (addFolderRoot emptyDir rootFolder))\n",
    "                                               path\n",
    "  state $ \\folder -> (folder, stateModFunc folder)\n",
    "\n",
    "flowFolder = folderFrom \"Noel\" [\"root\", \"root2\", \"root3\"]\n",
    "\n",
    "execState flowFolder newFolder"
   ]
  },
  {
   "cell_type": "code",
   "execution_count": 7,
   "metadata": {},
   "outputs": [
    {
     "data": {
      "text/plain": [
       "[Target {getTargetName = \"UserFiles\", getTargetMime = \"Folder\", getTargetId = \"B1\", getParentId = \"A1\"},Target {getTargetName = \"hello.Docx\", getTargetMime = \"Doc\", getTargetId = \"A2\", getParentId = \"A1\"},Target {getTargetName = \"details.xlsx\", getTargetMime = \"Spreadsheet\", getTargetId = \"A3\", getParentId = \"A1\"}]"
      ]
     },
     "metadata": {},
     "output_type": "display_data"
    },
    {
     "data": {
      "text/plain": [
       "[Target {getTargetName = \"DataFiles\", getTargetMime = \"Folder\", getTargetId = \"C1\", getParentId = \"B1\"}]"
      ]
     },
     "metadata": {},
     "output_type": "display_data"
    },
    {
     "data": {
      "text/plain": [
       "[Target {getTargetName = \"log.xlsx\", getTargetMime = \"Spreadsheet\", getTargetId = \"C2\", getParentId = \"C1\"}]"
      ]
     },
     "metadata": {},
     "output_type": "display_data"
    }
   ],
   "source": [
    "getFolderList :: Id -> [Target]\n",
    "getFolderList ident =\n",
    "  let files = filter (\\target -> getParentId target == ident) mockFilesDb\n",
    "  in case files of\n",
    "      [] -> []\n",
    "      xs -> xs\n",
    "\n",
    "getFolderList \"A1\"\n",
    "getFolderList \"B1\"\n",
    "getFolderList \"C1\""
   ]
  },
  {
   "cell_type": "code",
   "execution_count": 8,
   "metadata": {},
   "outputs": [],
   "source": [
    "--inform :: String -> IO ()\n",
    "--inform msg = putStrLn msg\n",
    "\n",
    "seqMap :: (a -> Local) -> [a] -> Local\n",
    "seqMap _ [] = get\n",
    "seqMap f (x:xs) = f x >> seqMap f xs\n",
    "--struggles: query rate"
   ]
  },
  {
   "cell_type": "code",
   "execution_count": null,
   "metadata": {},
   "outputs": [],
   "source": [
    "targetedFold :: Target\n",
    "targetedFold = Target { getTargetName = \"Root\", \n",
    "                          getTargetMime = \"Folder\", \n",
    "                          getTargetId = \"A1\",  \n",
    "                          getParentId = \"\" }\n",
    "\n",
    "                          \n",
    "handles :: Target -> Local\n",
    "handles target\n",
    "  | targetMime == \"Spreadsheet\" || \n",
    "    targetMime == \"Doc\" = getFile target ([\"root\"] ++ [folderName])\n",
    "  | targetMime == \"Folder\" = mkFolder target ([\"root\"])\n",
    "  where folderName = getTargetName target\n",
    "        targetMime = getTargetMime target\n",
    "        \n",
    "flowBasic = handles targetedFold\n",
    "\n",
    "execState flowBasic newFolder"
   ]
  },
  {
   "cell_type": "code",
   "execution_count": 9,
   "metadata": {},
   "outputs": [
    {
     "data": {
      "text/plain": [
       "|\n",
       "--Directory root\n",
       "\n",
       "  |\n",
       "  --Directory root2\n",
       "\n",
       "    |\n",
       "    --File \"a\"\n",
       "    |\n",
       "    --File \"b\"\n",
       "    |\n",
       "    --Directory root3\n",
       "\n",
       "      |\n",
       "      --File \"a\"\n",
       "      |\n",
       "      --File \"b\""
      ]
     },
     "metadata": {},
     "output_type": "display_data"
    },
    {
     "data": {
      "text/plain": [
       "|\n",
       "--Directory root\n",
       "\n",
       "  |\n",
       "  --Directory Root\n",
       "\n",
       "    |\n",
       "    --File \"details.xlsx\"\n",
       "    |\n",
       "    --File \"hello.Docx\"\n",
       "    |\n",
       "    --Directory UserFiles\n",
       "\n",
       "      |\n",
       "      --Directory DataFiles\n",
       "\n",
       "        |\n",
       "        --File \"log.xlsx\"\n",
       "  |\n",
       "  --Directory root2\n",
       "\n",
       "    |\n",
       "    --File \"a\"\n",
       "    |\n",
       "    --File \"b\"\n",
       "    |\n",
       "    --Directory root3\n",
       "\n",
       "      |\n",
       "      --File \"a\"\n",
       "      |\n",
       "      --File \"b\""
      ]
     },
     "metadata": {},
     "output_type": "display_data"
    }
   ],
   "source": [
    "-- data File = File { getFileName :: Name, getMime :: MimeType }\n",
    "-- data Folder = Folder { getFolderName :: Name }\n",
    "\n",
    "\n",
    "\n",
    "-- newtype Download a = Download (IO a)\n",
    "-- newtype MakeFolder a = MakeFolder (IO a)\n",
    "\n",
    "mimeCheck :: [MimeType] -> MimeType -> Maybe MimeType\n",
    "mimeCheck [] _ = Nothing\n",
    "mimeCheck (mimeType : mimeTypes) sampleMimeType\n",
    "  | mimeType == sampleMimeType = Just mimeType\n",
    "  | otherwise = mimeCheck mimeTypes sampleMimeType\n",
    "  \n",
    "getFile :: Target -> Path -> Local\n",
    "getFile target = fileDownload $ getTargetId target\n",
    "\n",
    "mkFolder :: Target -> Path -> Local\n",
    "mkFolder target = folderFrom $ getTargetName target\n",
    "  \n",
    "listFolder :: Target -> [Target]\n",
    "listFolder target = getFolderList $ getTargetId target\n",
    "\n",
    "getFolder :: Target -> Path -> Local\n",
    "getFolder target [] = get\n",
    "getFolder target path@(x:xs) = do\n",
    "  originalState <- get\n",
    "  let targetMime :: MimeType\n",
    "      targetMime = getTargetMime target\n",
    "  let mimes :: [MimeType]\n",
    "      mimes = [\"Folder\",\"Doc\", \"Spreadsheet\"]\n",
    "  case mimeCheck mimes targetMime of\n",
    "    Just \"Folder\" -> do\n",
    "      mkFolder target path\n",
    "      let folderName = getTargetName target\n",
    "      let subFiles = listFolder target\n",
    "      case subFiles of\n",
    "        [] -> get\n",
    "        targets -> seqMap handle targets\n",
    "          where handle :: Target -> Local\n",
    "                handle target \n",
    "                  | targetMime == \"Spreadsheet\" || \n",
    "                    targetMime == \"Doc\" = getFile target (path ++ [folderName])\n",
    "                  | targetMime == \"Folder\" = getFolder target (path ++ [folderName])\n",
    "                  where targetMime = getTargetMime target\n",
    "                  \n",
    "    _ -> state $ \\_ -> (originalState, originalState)\n",
    "\n",
    "targetedFolder :: Target\n",
    "targetedFolder = Target { getTargetName = \"Root\", \n",
    "                          getTargetMime = \"Folder\", \n",
    "                          getTargetId = \"A1\",  \n",
    "                          getParentId = \"\" }\n",
    "\n",
    "flowFromDb :: Local\n",
    "flowFromDb = getFolder targetedFolder [\"root\"]\n",
    "\n",
    "main :: Folder\n",
    "main =\n",
    "  execState flowFromDb newFolder\n",
    "\n",
    "newFolder\n",
    "\n",
    "main"
   ]
  },
  {
   "cell_type": "markdown",
   "metadata": {},
   "source": [
    "## Combining Recursion, Sum, Product Types"
   ]
  },
  {
   "cell_type": "code",
   "execution_count": null,
   "metadata": {},
   "outputs": [],
   "source": [
    "data List a = Empty | Cons a (List a) deriving (Eq, Show)"
   ]
  }
 ],
 "metadata": {
  "kernelspec": {
   "display_name": "Haskell",
   "language": "haskell",
   "name": "haskell"
  },
  "language_info": {
   "codemirror_mode": "ihaskell",
   "file_extension": ".hs",
   "name": "haskell",
   "pygments_lexer": "Haskell",
   "version": "8.6.4"
  }
 },
 "nbformat": 4,
 "nbformat_minor": 2
}
